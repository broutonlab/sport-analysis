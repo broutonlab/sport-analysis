{
 "cells": [
  {
   "cell_type": "markdown",
   "metadata": {
    "id": "gBiZPFydJozY",
    "pycharm": {
     "name": "#%% md\n"
    }
   },
   "source": [
    "# OpenPose Demo"
   ]
  },
  {
   "cell_type": "markdown",
   "metadata": {
    "pycharm": {
     "name": "#%% md\n"
    }
   },
   "source": [
    "## Install Norfair"
   ]
  },
  {
   "cell_type": "code",
   "execution_count": null,
   "metadata": {
    "pycharm": {
     "name": "#%%\n",
     "is_executing": true
    }
   },
   "outputs": [],
   "source": [
    "!pip install norfair[video]"
   ]
  },
  {
   "cell_type": "code",
   "execution_count": null,
   "outputs": [],
   "source": [
    "%cd src/third_party"
   ],
   "metadata": {
    "collapsed": false,
    "pycharm": {
     "name": "#%%\n",
     "is_executing": true
    }
   }
  },
  {
   "cell_type": "markdown",
   "metadata": {
    "pycharm": {
     "name": "#%% md\n"
    }
   },
   "source": [
    "## Build OpenPose"
   ]
  },
  {
   "cell_type": "code",
   "execution_count": null,
   "metadata": {
    "id": "jLe_ckKB0gKJ",
    "pycharm": {
     "name": "#%%\n"
    }
   },
   "outputs": [],
   "source": [
    "# cmake ~ 30min\n",
    "# ! wget -c \"https://github.com/Kitware/CMake/releases/download/v3.13.4/cmake-3.13.4.tar.gz\"\n",
    "! tar xf cmake-3.13.4.tar.gz\n",
    "! cd cmake-3.13.4 && ./configure && make && sudo make install"
   ]
  },
  {
   "cell_type": "code",
   "execution_count": null,
   "metadata": {
    "id": "vsgRGv2A0rS9",
    "pycharm": {
     "name": "#%%\n",
     "is_executing": true
    }
   },
   "outputs": [],
   "source": [
    "# Basic ~ 2min\n",
    " sudo apt-get --assume-yes update\n",
    " sudo apt-get --assume-yes install build-essential\n",
    " sudo apt-get --assume-yes install libopencv-dev\n",
    " sudo apt-get --assume-yes install libatlas-base-dev libprotobuf-dev libleveldb-dev libsnappy-dev libhdf5-serial-dev protobuf-compiler\n",
    " sudo apt-get --assume-yes install --no-install-recommends libboost-all-dev\n",
    " Remaining dependencies, 14.04\n",
    " sudo apt-get --assume-yes install libgflags-dev libgoogle-glog-dev liblmdb-dev\n",
    " sudo apt-get --assume-yes install python-setuptools python-dev build-essential\n",
    " sudo easy_install pip\n",
    " sudo -H pip install --upgrade numpy protobuf opencv-python\n",
    " sudo apt-get --assume-yes install python3-setuptools python3-dev build-essential\n",
    " sudo apt-get --assume-yes install python3-pip\n",
    " sudo -H pip3 install --upgrade numpy protobuf opencv-python\n",
    " sudo apt-get --assume-yes install opencl-headers ocl-icd-opencl-dev\n",
    " sudo apt-get --assume-yes install libviennacl-dev\n"
   ]
  },
  {
   "cell_type": "code",
   "execution_count": null,
   "metadata": {
    "id": "b7R8mCWqG-_J",
    "pycharm": {
     "name": "#%%\n"
    }
   },
   "outputs": [],
   "source": [
    "# Clone Openpose\n",
    "! git clone  --depth 1 https://github.com/CMU-Perceptual-Computing-Lab/openpose.git     "
   ]
  },
  {
   "cell_type": "code",
   "execution_count": null,
   "metadata": {
    "id": "ITisAwVgudc1",
    "pycharm": {
     "name": "#%%\n"
    }
   },
   "outputs": [],
   "source": [
    "# Get Openpose model data ~ 2min\n",
    "! cd openpose/models && chmod +r ./getModels.sh && sh getModels.sh"
   ]
  },
  {
   "cell_type": "code",
   "execution_count": null,
   "metadata": {
    "id": "sUBlbMMCu7n0",
    "pycharm": {
     "name": "#%%\n"
    }
   },
   "outputs": [],
   "source": [
    "# Build Openpose ~20min\n",
    "! sed -i 's/execute_process(COMMAND git checkout master WORKING_DIRECTORY ${CMAKE_SOURCE_DIR}\\/3rdparty\\/caffe)/execute_process(COMMAND git checkout f019d0dfe86f49d1140961f8c7dec22130c83154 WORKING_DIRECTORY ${CMAKE_SOURCE_DIR}\\/3rdparty\\/caffe)/g' openpose/CMakeLists.txt\n",
    "! cd openpose && rm -r build || true && mkdir build && cd build && cmake -DBUILD_PYTHON=ON .. && make -j`nproc`"
   ]
  },
  {
   "cell_type": "code",
   "execution_count": null,
   "metadata": {
    "id": "fY6ntxWZyoMJ",
    "pycharm": {
     "name": "#%%\n"
    }
   },
   "outputs": [],
   "source": [
    "# example demo usage ~1min\n",
    "! cd openpose &&  ./build/examples/openpose/openpose.bin --video examples/media/video.avi --write_json ./output1/ --display 0  --write_video ./output1/openpose.avi"
   ]
  },
  {
   "cell_type": "code",
   "execution_count": null,
   "metadata": {
    "id": "ApZyAjuEXiyk",
    "pycharm": {
     "name": "#%%\n"
    }
   },
   "outputs": [],
   "source": [
    "# python example demo usage ~1min\n",
    "! cd ./openpose/build/examples/tutorial_api_python && python3 01_body_from_image.py"
   ]
  },
  {
   "cell_type": "markdown",
   "metadata": {
    "pycharm": {
     "name": "#%% md\n"
    }
   },
   "source": [
    "## Run Demo"
   ]
  },
  {
   "cell_type": "markdown",
   "metadata": {
    "pycharm": {
     "name": "#%% md\n"
    }
   },
   "source": [
    "Get example code and videos:"
   ]
  },
  {
   "cell_type": "code",
   "execution_count": null,
   "metadata": {
    "pycharm": {
     "name": "#%%\n"
    }
   },
   "outputs": [],
   "source": [
    "!wget \"https://raw.githubusercontent.com/tryolabs/norfair/master/demos/openpose/openpose_extrapolation.py\" -O openpose_extrapolation.py\n",
    "!wget \"https://user-images.githubusercontent.com/92468171/172700205-2fdcab9b-3820-477e-9c12-141762024c04.mp4\" -O oxford_openpose_raw_1.mp4"
   ]
  },
  {
   "cell_type": "markdown",
   "metadata": {
    "pycharm": {
     "name": "#%% md\n"
    }
   },
   "source": [
    "Before running the following cell you should modify `openpose_extrapolation.py` with the path to your openpose instalation folder."
   ]
  },
  {
   "cell_type": "code",
   "execution_count": null,
   "metadata": {
    "pycharm": {
     "name": "#%%\n"
    }
   },
   "outputs": [],
   "source": [
    "!python openpose_extrapolation.py oxford_openpose_raw_1.mp4 --skip-frame 5"
   ]
  },
  {
   "cell_type": "markdown",
   "metadata": {
    "pycharm": {
     "name": "#%% md\n"
    }
   },
   "source": [
    "### Display"
   ]
  },
  {
   "cell_type": "code",
   "execution_count": null,
   "metadata": {
    "pycharm": {
     "name": "#%%\n"
    }
   },
   "outputs": [],
   "source": [
    "!ffmpeg -i ./oxford_openpose_raw_1_out.mp4 -vcodec vp9 ./oxford_openpose_raw_1_out.webm"
   ]
  },
  {
   "cell_type": "code",
   "execution_count": null,
   "metadata": {
    "pycharm": {
     "name": "#%%\n"
    }
   },
   "outputs": [],
   "source": [
    "# import io\n",
    "# from base64 import b64encode\n",
    "# from IPython.display import HTML\n",
    "#\n",
    "# with  io.open('oxford_openpose_raw_1_out.webm','r+b') as f:\n",
    "#     mp4 = f.read()\n",
    "# data_url = \"data:video/webm;base64,\" + b64encode(mp4).decode()\n",
    "# HTML(\"\"\"\n",
    "# <video width=800 controls>\n",
    "#       <source src=\"%s\" type=\"video/webm\">\n",
    "# </video>\n",
    "# \"\"\" % data_url)"
   ]
  }
 ],
 "metadata": {
  "accelerator": "GPU",
  "colab": {
   "collapsed_sections": [],
   "name": "install_openpose.ipynb",
   "provenance": []
  },
  "kernelspec": {
   "display_name": "Python 3",
   "name": "python3"
  },
  "language_info": {
   "name": "python"
  }
 },
 "nbformat": 4,
 "nbformat_minor": 0
}
